{
 "cells": [
  {
   "cell_type": "code",
   "execution_count": 13,
   "metadata": {},
   "outputs": [],
   "source": [
    "from tensorflow.keras.models import Sequential\n",
    "from tensorflow.keras.layers import Dense\n",
    "from tensorflow.keras.layers import Convolution2D \n",
    "from tensorflow.keras.layers import MaxPooling2D \n",
    "from tensorflow.keras.layers import Flatten\n"
   ]
  },
  {
   "cell_type": "code",
   "execution_count": 14,
   "metadata": {},
   "outputs": [],
   "source": [
    "from keras.preprocessing.image import ImageDataGenerator\n",
    "train_datagen = ImageDataGenerator(rescale = 1./255,shear_range =0.2,zoom_range=0.2,horizontal_flip= True)\n",
    "test_datagen = ImageDataGenerator(rescale = 1./255)"
   ]
  },
  {
   "cell_type": "code",
   "execution_count": 15,
   "metadata": {},
   "outputs": [
    {
     "name": "stdout",
     "output_type": "stream",
     "text": [
      "Found 415 images belonging to 4 classes.\n",
      "Found 328 images belonging to 4 classes.\n"
     ]
    }
   ],
   "source": [
    "x_train = train_datagen.flow_from_directory(r\"C:\\project\\user images\\user im2\\train set\",target_size=(64,64),batch_size = 32,class_mode =\"categorical\")\n",
    "x_test = test_datagen.flow_from_directory(r\"C:\\project\\user images\\user im2\\test set\",target_size=(64,64),batch_size = 32,class_mode =\"categorical\")"
   ]
  },
  {
   "cell_type": "code",
   "execution_count": 16,
   "metadata": {},
   "outputs": [],
   "source": [
    "model = Sequential()"
   ]
  },
  {
   "cell_type": "code",
   "execution_count": 17,
   "metadata": {},
   "outputs": [],
   "source": [
    "model.add(Convolution2D(32,(3,3) ,input_shape = (64,64,3),activation = \"relu\"))"
   ]
  },
  {
   "cell_type": "code",
   "execution_count": 18,
   "metadata": {},
   "outputs": [],
   "source": [
    "model.add(MaxPooling2D(2,2))"
   ]
  },
  {
   "cell_type": "code",
   "execution_count": 19,
   "metadata": {},
   "outputs": [],
   "source": [
    "model.add(Flatten())"
   ]
  },
  {
   "cell_type": "code",
   "execution_count": 20,
   "metadata": {},
   "outputs": [],
   "source": [
    "model.add(Dense(units = 512,activation = \"relu\",kernel_initializer = \"random_uniform\"))"
   ]
  },
  {
   "cell_type": "code",
   "execution_count": 21,
   "metadata": {},
   "outputs": [],
   "source": [
    "model.add(Dense(units = 4,activation = \"softmax\",kernel_initializer = \"random_uniform\"))"
   ]
  },
  {
   "cell_type": "code",
   "execution_count": 22,
   "metadata": {},
   "outputs": [],
   "source": [
    "model.compile(\"sgd\",loss = \"categorical_crossentropy\",metrics = [\"accuracy\"])"
   ]
  },
  {
   "cell_type": "code",
   "execution_count": 26,
   "metadata": {},
   "outputs": [
    {
     "name": "stdout",
     "output_type": "stream",
     "text": [
      "Epoch 1/30\n",
      "13/13 [==============================] - 56s 4s/step - loss: 0.6346 - acc: 0.7759 - val_loss: 0.5175 - val_acc: 0.8293\n",
      "Epoch 2/30\n",
      "13/13 [==============================] - 8s 617ms/step - loss: 0.6617 - acc: 0.7687 - val_loss: 0.4705 - val_acc: 0.8628 - loss: 0.6378 - acc: 0.7\n",
      "Epoch 3/30\n",
      "13/13 [==============================] - 8s 606ms/step - loss: 0.6496 - acc: 0.7542 - val_loss: 0.4467 - val_acc: 0.8659\n",
      "Epoch 4/30\n",
      "13/13 [==============================] - 7s 563ms/step - loss: 0.6841 - acc: 0.7373 - val_loss: 0.5055 - val_acc: 0.8140\n",
      "Epoch 5/30\n",
      "13/13 [==============================] - 6s 492ms/step - loss: 0.6855 - acc: 0.7373 - val_loss: 0.5414 - val_acc: 0.8079\n",
      "Epoch 6/30\n",
      "13/13 [==============================] - 7s 506ms/step - loss: 0.6495 - acc: 0.7614 - val_loss: 0.5195 - val_acc: 0.8171\n",
      "Epoch 7/30\n",
      "13/13 [==============================] - 7s 521ms/step - loss: 0.6494 - acc: 0.7614 - val_loss: 0.5222 - val_acc: 0.7866\n",
      "Epoch 8/30\n",
      "13/13 [==============================] - 6s 463ms/step - loss: 0.6535 - acc: 0.7614 - val_loss: 0.4980 - val_acc: 0.8506\n",
      "Epoch 9/30\n",
      "13/13 [==============================] - 6s 478ms/step - loss: 0.6007 - acc: 0.7928 - val_loss: 0.5202 - val_acc: 0.8354\n",
      "Epoch 10/30\n",
      "13/13 [==============================] - 6s 438ms/step - loss: 0.6400 - acc: 0.7542 - val_loss: 0.5300 - val_acc: 0.8415\n",
      "Epoch 11/30\n",
      "13/13 [==============================] - 6s 495ms/step - loss: 0.6149 - acc: 0.7663 - val_loss: 0.4997 - val_acc: 0.8384\n",
      "Epoch 12/30\n",
      "13/13 [==============================] - 6s 490ms/step - loss: 0.5683 - acc: 0.7928 - val_loss: 0.4754 - val_acc: 0.8537\n",
      "Epoch 13/30\n",
      "13/13 [==============================] - 7s 528ms/step - loss: 0.6340 - acc: 0.7639 - val_loss: 0.4494 - val_acc: 0.8811\n",
      "Epoch 14/30\n",
      "13/13 [==============================] - 6s 499ms/step - loss: 0.6019 - acc: 0.7687 - val_loss: 0.4108 - val_acc: 0.8841\n",
      "Epoch 15/30\n",
      "13/13 [==============================] - 6s 497ms/step - loss: 0.5386 - acc: 0.8072 - val_loss: 0.4886 - val_acc: 0.8415\n",
      "Epoch 16/30\n",
      "13/13 [==============================] - 6s 458ms/step - loss: 0.5985 - acc: 0.7855 - val_loss: 0.3799 - val_acc: 0.8598\n",
      "Epoch 17/30\n",
      "13/13 [==============================] - 7s 500ms/step - loss: 0.5468 - acc: 0.8048 - val_loss: 0.3498 - val_acc: 0.9055\n",
      "Epoch 18/30\n",
      "13/13 [==============================] - 7s 503ms/step - loss: 0.5888 - acc: 0.7904 - val_loss: 0.4719 - val_acc: 0.8262\n",
      "Epoch 19/30\n",
      "13/13 [==============================] - 6s 472ms/step - loss: 0.5740 - acc: 0.7976 - val_loss: 0.3754 - val_acc: 0.8841\n",
      "Epoch 20/30\n",
      "13/13 [==============================] - 6s 490ms/step - loss: 0.5948 - acc: 0.7663 - val_loss: 0.3809 - val_acc: 0.8811\n",
      "Epoch 21/30\n",
      "13/13 [==============================] - 6s 441ms/step - loss: 0.5628 - acc: 0.7952 - val_loss: 0.3450 - val_acc: 0.9146\n",
      "Epoch 22/30\n",
      "13/13 [==============================] - 7s 520ms/step - loss: 0.5530 - acc: 0.7952 - val_loss: 0.3686 - val_acc: 0.8811\n",
      "Epoch 23/30\n",
      "13/13 [==============================] - 6s 446ms/step - loss: 0.5349 - acc: 0.7976 - val_loss: 0.3627 - val_acc: 0.8872\n",
      "Epoch 24/30\n",
      "13/13 [==============================] - 6s 467ms/step - loss: 0.5766 - acc: 0.7614 - val_loss: 0.4236 - val_acc: 0.8598\n",
      "Epoch 25/30\n",
      "13/13 [==============================] - 6s 459ms/step - loss: 0.5278 - acc: 0.8120 - val_loss: 0.3266 - val_acc: 0.9116\n",
      "Epoch 26/30\n",
      "13/13 [==============================] - 6s 479ms/step - loss: 0.5323 - acc: 0.8289 - val_loss: 0.4166 - val_acc: 0.8598\n",
      "Epoch 27/30\n",
      "13/13 [==============================] - 6s 490ms/step - loss: 0.5029 - acc: 0.8145 - val_loss: 0.3537 - val_acc: 0.8811\n",
      "Epoch 28/30\n",
      "13/13 [==============================] - 7s 553ms/step - loss: 0.5011 - acc: 0.8337 - val_loss: 0.3353 - val_acc: 0.8750\n",
      "Epoch 29/30\n",
      "13/13 [==============================] - 7s 528ms/step - loss: 0.4801 - acc: 0.8145 - val_loss: 0.3388 - val_acc: 0.8933\n",
      "Epoch 30/30\n",
      "13/13 [==============================] - 7s 569ms/step - loss: 0.4774 - acc: 0.8096 - val_loss: 0.5124 - val_acc: 0.7896\n"
     ]
    },
    {
     "data": {
      "text/plain": [
       "<tensorflow.python.keras.callbacks.History at 0x33dffe5e80>"
      ]
     },
     "execution_count": 26,
     "metadata": {},
     "output_type": "execute_result"
    }
   ],
   "source": [
    "model.fit_generator(x_train ,steps_per_epoch = 13 ,epochs = 30,validation_data= x_test , validation_steps = 11)"
   ]
  },
  {
   "cell_type": "code",
   "execution_count": 27,
   "metadata": {},
   "outputs": [],
   "source": [
    "model.save(\"human face.h5\")"
   ]
  },
  {
   "cell_type": "code",
   "execution_count": 28,
   "metadata": {},
   "outputs": [
    {
     "data": {
      "text/plain": [
       "'C:\\\\project'"
      ]
     },
     "execution_count": 28,
     "metadata": {},
     "output_type": "execute_result"
    }
   ],
   "source": [
    "pwd"
   ]
  },
  {
   "cell_type": "code",
   "execution_count": null,
   "metadata": {},
   "outputs": [],
   "source": []
  },
  {
   "cell_type": "code",
   "execution_count": null,
   "metadata": {},
   "outputs": [],
   "source": []
  }
 ],
 "metadata": {
  "kernelspec": {
   "display_name": "Python 3",
   "language": "python",
   "name": "python3"
  },
  "language_info": {
   "codemirror_mode": {
    "name": "ipython",
    "version": 3
   },
   "file_extension": ".py",
   "mimetype": "text/x-python",
   "name": "python",
   "nbconvert_exporter": "python",
   "pygments_lexer": "ipython3",
   "version": "3.7.3"
  }
 },
 "nbformat": 4,
 "nbformat_minor": 2
}
